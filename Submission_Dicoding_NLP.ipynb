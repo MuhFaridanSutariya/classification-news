{
  "cells": [
    {
      "cell_type": "markdown",
      "source": [
        "Import library dan dataset"
      ],
      "metadata": {
        "id": "INWlD1j8GNCx"
      }
    },
    {
      "cell_type": "code",
      "execution_count": 99,
      "metadata": {
        "id": "20KPEWAtMtym"
      },
      "outputs": [],
      "source": [
        "import pandas as pd\n",
        "import matplotlib.pyplot as plt\n",
        "\n",
        "from sklearn.model_selection import train_test_split\n",
        "\n",
        "import nltk\n",
        "from nltk.corpus import stopwords\n",
        "\n",
        "import tensorflow as tf\n",
        "from tensorflow.keras.preprocessing.text import Tokenizer\n",
        "from tensorflow.keras.preprocessing.sequence import pad_sequences"
      ]
    },
    {
      "cell_type": "code",
      "execution_count": 100,
      "metadata": {
        "colab": {
          "base_uri": "https://localhost:8080/"
        },
        "id": "qqapplKDNW0H",
        "outputId": "cd3fb30d-5372-4302-c00d-a11dc1523f99"
      },
      "outputs": [
        {
          "output_type": "stream",
          "name": "stdout",
          "text": [
            "Row 2225, Columns 2\n"
          ]
        }
      ],
      "source": [
        "df = pd.read_csv(\"/content/bbc-text.csv\")\n",
        "print(\"Row {}, Columns {}\".format(df.shape[0], df.shape[1]))"
      ]
    },
    {
      "cell_type": "code",
      "execution_count": 101,
      "metadata": {
        "colab": {
          "base_uri": "https://localhost:8080/",
          "height": 81
        },
        "id": "twf41xwORLyr",
        "outputId": "6a615f31-2b33-4d60-c6a7-719108302d3e"
      },
      "outputs": [
        {
          "output_type": "execute_result",
          "data": {
            "text/plain": [
              "          category                                               text\n",
              "467  entertainment  dirty den s demise seen by 14m more than 14 mi..."
            ],
            "text/html": [
              "\n",
              "  <div id=\"df-dbc32ddf-5ba0-442d-bfaa-8fe371275b2a\">\n",
              "    <div class=\"colab-df-container\">\n",
              "      <div>\n",
              "<style scoped>\n",
              "    .dataframe tbody tr th:only-of-type {\n",
              "        vertical-align: middle;\n",
              "    }\n",
              "\n",
              "    .dataframe tbody tr th {\n",
              "        vertical-align: top;\n",
              "    }\n",
              "\n",
              "    .dataframe thead th {\n",
              "        text-align: right;\n",
              "    }\n",
              "</style>\n",
              "<table border=\"1\" class=\"dataframe\">\n",
              "  <thead>\n",
              "    <tr style=\"text-align: right;\">\n",
              "      <th></th>\n",
              "      <th>category</th>\n",
              "      <th>text</th>\n",
              "    </tr>\n",
              "  </thead>\n",
              "  <tbody>\n",
              "    <tr>\n",
              "      <th>467</th>\n",
              "      <td>entertainment</td>\n",
              "      <td>dirty den s demise seen by 14m more than 14 mi...</td>\n",
              "    </tr>\n",
              "  </tbody>\n",
              "</table>\n",
              "</div>\n",
              "      <button class=\"colab-df-convert\" onclick=\"convertToInteractive('df-dbc32ddf-5ba0-442d-bfaa-8fe371275b2a')\"\n",
              "              title=\"Convert this dataframe to an interactive table.\"\n",
              "              style=\"display:none;\">\n",
              "        \n",
              "  <svg xmlns=\"http://www.w3.org/2000/svg\" height=\"24px\"viewBox=\"0 0 24 24\"\n",
              "       width=\"24px\">\n",
              "    <path d=\"M0 0h24v24H0V0z\" fill=\"none\"/>\n",
              "    <path d=\"M18.56 5.44l.94 2.06.94-2.06 2.06-.94-2.06-.94-.94-2.06-.94 2.06-2.06.94zm-11 1L8.5 8.5l.94-2.06 2.06-.94-2.06-.94L8.5 2.5l-.94 2.06-2.06.94zm10 10l.94 2.06.94-2.06 2.06-.94-2.06-.94-.94-2.06-.94 2.06-2.06.94z\"/><path d=\"M17.41 7.96l-1.37-1.37c-.4-.4-.92-.59-1.43-.59-.52 0-1.04.2-1.43.59L10.3 9.45l-7.72 7.72c-.78.78-.78 2.05 0 2.83L4 21.41c.39.39.9.59 1.41.59.51 0 1.02-.2 1.41-.59l7.78-7.78 2.81-2.81c.8-.78.8-2.07 0-2.86zM5.41 20L4 18.59l7.72-7.72 1.47 1.35L5.41 20z\"/>\n",
              "  </svg>\n",
              "      </button>\n",
              "      \n",
              "  <style>\n",
              "    .colab-df-container {\n",
              "      display:flex;\n",
              "      flex-wrap:wrap;\n",
              "      gap: 12px;\n",
              "    }\n",
              "\n",
              "    .colab-df-convert {\n",
              "      background-color: #E8F0FE;\n",
              "      border: none;\n",
              "      border-radius: 50%;\n",
              "      cursor: pointer;\n",
              "      display: none;\n",
              "      fill: #1967D2;\n",
              "      height: 32px;\n",
              "      padding: 0 0 0 0;\n",
              "      width: 32px;\n",
              "    }\n",
              "\n",
              "    .colab-df-convert:hover {\n",
              "      background-color: #E2EBFA;\n",
              "      box-shadow: 0px 1px 2px rgba(60, 64, 67, 0.3), 0px 1px 3px 1px rgba(60, 64, 67, 0.15);\n",
              "      fill: #174EA6;\n",
              "    }\n",
              "\n",
              "    [theme=dark] .colab-df-convert {\n",
              "      background-color: #3B4455;\n",
              "      fill: #D2E3FC;\n",
              "    }\n",
              "\n",
              "    [theme=dark] .colab-df-convert:hover {\n",
              "      background-color: #434B5C;\n",
              "      box-shadow: 0px 1px 3px 1px rgba(0, 0, 0, 0.15);\n",
              "      filter: drop-shadow(0px 1px 2px rgba(0, 0, 0, 0.3));\n",
              "      fill: #FFFFFF;\n",
              "    }\n",
              "  </style>\n",
              "\n",
              "      <script>\n",
              "        const buttonEl =\n",
              "          document.querySelector('#df-dbc32ddf-5ba0-442d-bfaa-8fe371275b2a button.colab-df-convert');\n",
              "        buttonEl.style.display =\n",
              "          google.colab.kernel.accessAllowed ? 'block' : 'none';\n",
              "\n",
              "        async function convertToInteractive(key) {\n",
              "          const element = document.querySelector('#df-dbc32ddf-5ba0-442d-bfaa-8fe371275b2a');\n",
              "          const dataTable =\n",
              "            await google.colab.kernel.invokeFunction('convertToInteractive',\n",
              "                                                     [key], {});\n",
              "          if (!dataTable) return;\n",
              "\n",
              "          const docLinkHtml = 'Like what you see? Visit the ' +\n",
              "            '<a target=\"_blank\" href=https://colab.research.google.com/notebooks/data_table.ipynb>data table notebook</a>'\n",
              "            + ' to learn more about interactive tables.';\n",
              "          element.innerHTML = '';\n",
              "          dataTable['output_type'] = 'display_data';\n",
              "          await google.colab.output.renderOutput(dataTable, element);\n",
              "          const docLink = document.createElement('div');\n",
              "          docLink.innerHTML = docLinkHtml;\n",
              "          element.appendChild(docLink);\n",
              "        }\n",
              "      </script>\n",
              "    </div>\n",
              "  </div>\n",
              "  "
            ]
          },
          "metadata": {},
          "execution_count": 101
        }
      ],
      "source": [
        "df.sample()"
      ]
    },
    {
      "cell_type": "code",
      "source": [
        "df.info()"
      ],
      "metadata": {
        "colab": {
          "base_uri": "https://localhost:8080/"
        },
        "id": "IaWWC29fGTjs",
        "outputId": "6b74c0b8-f52a-4e03-cace-34c6af2778ac"
      },
      "execution_count": 119,
      "outputs": [
        {
          "output_type": "stream",
          "name": "stdout",
          "text": [
            "<class 'pandas.core.frame.DataFrame'>\n",
            "RangeIndex: 2225 entries, 0 to 2224\n",
            "Data columns (total 2 columns):\n",
            " #   Column    Non-Null Count  Dtype \n",
            "---  ------    --------------  ----- \n",
            " 0   category  2225 non-null   object\n",
            " 1   text      2225 non-null   object\n",
            "dtypes: object(2)\n",
            "memory usage: 34.9+ KB\n"
          ]
        }
      ]
    },
    {
      "cell_type": "markdown",
      "metadata": {
        "id": "HZ1RDIB5YGdp"
      },
      "source": [
        "Casefolding"
      ]
    },
    {
      "cell_type": "code",
      "source": [
        "df['category'].value_counts()"
      ],
      "metadata": {
        "colab": {
          "base_uri": "https://localhost:8080/"
        },
        "id": "QCBdcGEklmgN",
        "outputId": "edeaff44-e263-49cb-8932-1979f41ec737"
      },
      "execution_count": 102,
      "outputs": [
        {
          "output_type": "execute_result",
          "data": {
            "text/plain": [
              "sport            511\n",
              "business         510\n",
              "politics         417\n",
              "tech             401\n",
              "entertainment    386\n",
              "Name: category, dtype: int64"
            ]
          },
          "metadata": {},
          "execution_count": 102
        }
      ]
    },
    {
      "cell_type": "code",
      "execution_count": 103,
      "metadata": {
        "colab": {
          "base_uri": "https://localhost:8080/",
          "height": 81
        },
        "id": "viPRW39qX7y8",
        "outputId": "099dfb46-9b58-4786-c2d4-a479a83410a6"
      },
      "outputs": [
        {
          "output_type": "execute_result",
          "data": {
            "text/plain": [
              "     category                                               text\n",
              "1956    sport  trial date is set for balco case a us judge ha..."
            ],
            "text/html": [
              "\n",
              "  <div id=\"df-f74f9656-5946-44b2-a843-a85e19833b51\">\n",
              "    <div class=\"colab-df-container\">\n",
              "      <div>\n",
              "<style scoped>\n",
              "    .dataframe tbody tr th:only-of-type {\n",
              "        vertical-align: middle;\n",
              "    }\n",
              "\n",
              "    .dataframe tbody tr th {\n",
              "        vertical-align: top;\n",
              "    }\n",
              "\n",
              "    .dataframe thead th {\n",
              "        text-align: right;\n",
              "    }\n",
              "</style>\n",
              "<table border=\"1\" class=\"dataframe\">\n",
              "  <thead>\n",
              "    <tr style=\"text-align: right;\">\n",
              "      <th></th>\n",
              "      <th>category</th>\n",
              "      <th>text</th>\n",
              "    </tr>\n",
              "  </thead>\n",
              "  <tbody>\n",
              "    <tr>\n",
              "      <th>1956</th>\n",
              "      <td>sport</td>\n",
              "      <td>trial date is set for balco case a us judge ha...</td>\n",
              "    </tr>\n",
              "  </tbody>\n",
              "</table>\n",
              "</div>\n",
              "      <button class=\"colab-df-convert\" onclick=\"convertToInteractive('df-f74f9656-5946-44b2-a843-a85e19833b51')\"\n",
              "              title=\"Convert this dataframe to an interactive table.\"\n",
              "              style=\"display:none;\">\n",
              "        \n",
              "  <svg xmlns=\"http://www.w3.org/2000/svg\" height=\"24px\"viewBox=\"0 0 24 24\"\n",
              "       width=\"24px\">\n",
              "    <path d=\"M0 0h24v24H0V0z\" fill=\"none\"/>\n",
              "    <path d=\"M18.56 5.44l.94 2.06.94-2.06 2.06-.94-2.06-.94-.94-2.06-.94 2.06-2.06.94zm-11 1L8.5 8.5l.94-2.06 2.06-.94-2.06-.94L8.5 2.5l-.94 2.06-2.06.94zm10 10l.94 2.06.94-2.06 2.06-.94-2.06-.94-.94-2.06-.94 2.06-2.06.94z\"/><path d=\"M17.41 7.96l-1.37-1.37c-.4-.4-.92-.59-1.43-.59-.52 0-1.04.2-1.43.59L10.3 9.45l-7.72 7.72c-.78.78-.78 2.05 0 2.83L4 21.41c.39.39.9.59 1.41.59.51 0 1.02-.2 1.41-.59l7.78-7.78 2.81-2.81c.8-.78.8-2.07 0-2.86zM5.41 20L4 18.59l7.72-7.72 1.47 1.35L5.41 20z\"/>\n",
              "  </svg>\n",
              "      </button>\n",
              "      \n",
              "  <style>\n",
              "    .colab-df-container {\n",
              "      display:flex;\n",
              "      flex-wrap:wrap;\n",
              "      gap: 12px;\n",
              "    }\n",
              "\n",
              "    .colab-df-convert {\n",
              "      background-color: #E8F0FE;\n",
              "      border: none;\n",
              "      border-radius: 50%;\n",
              "      cursor: pointer;\n",
              "      display: none;\n",
              "      fill: #1967D2;\n",
              "      height: 32px;\n",
              "      padding: 0 0 0 0;\n",
              "      width: 32px;\n",
              "    }\n",
              "\n",
              "    .colab-df-convert:hover {\n",
              "      background-color: #E2EBFA;\n",
              "      box-shadow: 0px 1px 2px rgba(60, 64, 67, 0.3), 0px 1px 3px 1px rgba(60, 64, 67, 0.15);\n",
              "      fill: #174EA6;\n",
              "    }\n",
              "\n",
              "    [theme=dark] .colab-df-convert {\n",
              "      background-color: #3B4455;\n",
              "      fill: #D2E3FC;\n",
              "    }\n",
              "\n",
              "    [theme=dark] .colab-df-convert:hover {\n",
              "      background-color: #434B5C;\n",
              "      box-shadow: 0px 1px 3px 1px rgba(0, 0, 0, 0.15);\n",
              "      filter: drop-shadow(0px 1px 2px rgba(0, 0, 0, 0.3));\n",
              "      fill: #FFFFFF;\n",
              "    }\n",
              "  </style>\n",
              "\n",
              "      <script>\n",
              "        const buttonEl =\n",
              "          document.querySelector('#df-f74f9656-5946-44b2-a843-a85e19833b51 button.colab-df-convert');\n",
              "        buttonEl.style.display =\n",
              "          google.colab.kernel.accessAllowed ? 'block' : 'none';\n",
              "\n",
              "        async function convertToInteractive(key) {\n",
              "          const element = document.querySelector('#df-f74f9656-5946-44b2-a843-a85e19833b51');\n",
              "          const dataTable =\n",
              "            await google.colab.kernel.invokeFunction('convertToInteractive',\n",
              "                                                     [key], {});\n",
              "          if (!dataTable) return;\n",
              "\n",
              "          const docLinkHtml = 'Like what you see? Visit the ' +\n",
              "            '<a target=\"_blank\" href=https://colab.research.google.com/notebooks/data_table.ipynb>data table notebook</a>'\n",
              "            + ' to learn more about interactive tables.';\n",
              "          element.innerHTML = '';\n",
              "          dataTable['output_type'] = 'display_data';\n",
              "          await google.colab.output.renderOutput(dataTable, element);\n",
              "          const docLink = document.createElement('div');\n",
              "          docLink.innerHTML = docLinkHtml;\n",
              "          element.appendChild(docLink);\n",
              "        }\n",
              "      </script>\n",
              "    </div>\n",
              "  </div>\n",
              "  "
            ]
          },
          "metadata": {},
          "execution_count": 103
        }
      ],
      "source": [
        "df['text'] = df['text'].str.lower()\n",
        "df.sample()"
      ]
    },
    {
      "cell_type": "markdown",
      "metadata": {
        "id": "ARJkJKqKYI2Q"
      },
      "source": [
        "Removing Punctuation"
      ]
    },
    {
      "cell_type": "code",
      "execution_count": 104,
      "metadata": {
        "colab": {
          "base_uri": "https://localhost:8080/",
          "height": 135
        },
        "id": "FNPefQSaYJw5",
        "outputId": "1e71492f-37ab-4ad6-f57f-eb2abf4a9173"
      },
      "outputs": [
        {
          "output_type": "stream",
          "name": "stderr",
          "text": [
            "/usr/local/lib/python3.7/dist-packages/ipykernel_launcher.py:1: FutureWarning: The default value of regex will change from True to False in a future version.\n",
            "  \"\"\"Entry point for launching an IPython kernel.\n"
          ]
        },
        {
          "output_type": "execute_result",
          "data": {
            "text/plain": [
              "          category                                               text\n",
              "772  entertainment  redford s vision of sundance despite sporting ..."
            ],
            "text/html": [
              "\n",
              "  <div id=\"df-11e0db54-1f46-4c8b-9943-1dd17284499a\">\n",
              "    <div class=\"colab-df-container\">\n",
              "      <div>\n",
              "<style scoped>\n",
              "    .dataframe tbody tr th:only-of-type {\n",
              "        vertical-align: middle;\n",
              "    }\n",
              "\n",
              "    .dataframe tbody tr th {\n",
              "        vertical-align: top;\n",
              "    }\n",
              "\n",
              "    .dataframe thead th {\n",
              "        text-align: right;\n",
              "    }\n",
              "</style>\n",
              "<table border=\"1\" class=\"dataframe\">\n",
              "  <thead>\n",
              "    <tr style=\"text-align: right;\">\n",
              "      <th></th>\n",
              "      <th>category</th>\n",
              "      <th>text</th>\n",
              "    </tr>\n",
              "  </thead>\n",
              "  <tbody>\n",
              "    <tr>\n",
              "      <th>772</th>\n",
              "      <td>entertainment</td>\n",
              "      <td>redford s vision of sundance despite sporting ...</td>\n",
              "    </tr>\n",
              "  </tbody>\n",
              "</table>\n",
              "</div>\n",
              "      <button class=\"colab-df-convert\" onclick=\"convertToInteractive('df-11e0db54-1f46-4c8b-9943-1dd17284499a')\"\n",
              "              title=\"Convert this dataframe to an interactive table.\"\n",
              "              style=\"display:none;\">\n",
              "        \n",
              "  <svg xmlns=\"http://www.w3.org/2000/svg\" height=\"24px\"viewBox=\"0 0 24 24\"\n",
              "       width=\"24px\">\n",
              "    <path d=\"M0 0h24v24H0V0z\" fill=\"none\"/>\n",
              "    <path d=\"M18.56 5.44l.94 2.06.94-2.06 2.06-.94-2.06-.94-.94-2.06-.94 2.06-2.06.94zm-11 1L8.5 8.5l.94-2.06 2.06-.94-2.06-.94L8.5 2.5l-.94 2.06-2.06.94zm10 10l.94 2.06.94-2.06 2.06-.94-2.06-.94-.94-2.06-.94 2.06-2.06.94z\"/><path d=\"M17.41 7.96l-1.37-1.37c-.4-.4-.92-.59-1.43-.59-.52 0-1.04.2-1.43.59L10.3 9.45l-7.72 7.72c-.78.78-.78 2.05 0 2.83L4 21.41c.39.39.9.59 1.41.59.51 0 1.02-.2 1.41-.59l7.78-7.78 2.81-2.81c.8-.78.8-2.07 0-2.86zM5.41 20L4 18.59l7.72-7.72 1.47 1.35L5.41 20z\"/>\n",
              "  </svg>\n",
              "      </button>\n",
              "      \n",
              "  <style>\n",
              "    .colab-df-container {\n",
              "      display:flex;\n",
              "      flex-wrap:wrap;\n",
              "      gap: 12px;\n",
              "    }\n",
              "\n",
              "    .colab-df-convert {\n",
              "      background-color: #E8F0FE;\n",
              "      border: none;\n",
              "      border-radius: 50%;\n",
              "      cursor: pointer;\n",
              "      display: none;\n",
              "      fill: #1967D2;\n",
              "      height: 32px;\n",
              "      padding: 0 0 0 0;\n",
              "      width: 32px;\n",
              "    }\n",
              "\n",
              "    .colab-df-convert:hover {\n",
              "      background-color: #E2EBFA;\n",
              "      box-shadow: 0px 1px 2px rgba(60, 64, 67, 0.3), 0px 1px 3px 1px rgba(60, 64, 67, 0.15);\n",
              "      fill: #174EA6;\n",
              "    }\n",
              "\n",
              "    [theme=dark] .colab-df-convert {\n",
              "      background-color: #3B4455;\n",
              "      fill: #D2E3FC;\n",
              "    }\n",
              "\n",
              "    [theme=dark] .colab-df-convert:hover {\n",
              "      background-color: #434B5C;\n",
              "      box-shadow: 0px 1px 3px 1px rgba(0, 0, 0, 0.15);\n",
              "      filter: drop-shadow(0px 1px 2px rgba(0, 0, 0, 0.3));\n",
              "      fill: #FFFFFF;\n",
              "    }\n",
              "  </style>\n",
              "\n",
              "      <script>\n",
              "        const buttonEl =\n",
              "          document.querySelector('#df-11e0db54-1f46-4c8b-9943-1dd17284499a button.colab-df-convert');\n",
              "        buttonEl.style.display =\n",
              "          google.colab.kernel.accessAllowed ? 'block' : 'none';\n",
              "\n",
              "        async function convertToInteractive(key) {\n",
              "          const element = document.querySelector('#df-11e0db54-1f46-4c8b-9943-1dd17284499a');\n",
              "          const dataTable =\n",
              "            await google.colab.kernel.invokeFunction('convertToInteractive',\n",
              "                                                     [key], {});\n",
              "          if (!dataTable) return;\n",
              "\n",
              "          const docLinkHtml = 'Like what you see? Visit the ' +\n",
              "            '<a target=\"_blank\" href=https://colab.research.google.com/notebooks/data_table.ipynb>data table notebook</a>'\n",
              "            + ' to learn more about interactive tables.';\n",
              "          element.innerHTML = '';\n",
              "          dataTable['output_type'] = 'display_data';\n",
              "          await google.colab.output.renderOutput(dataTable, element);\n",
              "          const docLink = document.createElement('div');\n",
              "          docLink.innerHTML = docLinkHtml;\n",
              "          element.appendChild(docLink);\n",
              "        }\n",
              "      </script>\n",
              "    </div>\n",
              "  </div>\n",
              "  "
            ]
          },
          "metadata": {},
          "execution_count": 104
        }
      ],
      "source": [
        "df[\"text\"] = df['text'].str.replace('[^\\w\\s]','')\n",
        "df.sample()"
      ]
    },
    {
      "cell_type": "markdown",
      "metadata": {
        "id": "uXa_hO5qYSBE"
      },
      "source": [
        "Removing Stopwords"
      ]
    },
    {
      "cell_type": "code",
      "execution_count": 105,
      "metadata": {
        "colab": {
          "base_uri": "https://localhost:8080/"
        },
        "id": "cIyXNbOYYRvN",
        "outputId": "b1b7ba7f-3a90-47b6-f80a-683601648ecf"
      },
      "outputs": [
        {
          "output_type": "stream",
          "name": "stderr",
          "text": [
            "[nltk_data] Downloading package stopwords to /root/nltk_data...\n",
            "[nltk_data]   Package stopwords is already up-to-date!\n"
          ]
        },
        {
          "output_type": "execute_result",
          "data": {
            "text/plain": [
              "True"
            ]
          },
          "metadata": {},
          "execution_count": 105
        }
      ],
      "source": [
        "nltk.download('stopwords')"
      ]
    },
    {
      "cell_type": "code",
      "execution_count": 106,
      "metadata": {
        "id": "pYn-48_lYd6g"
      },
      "outputs": [],
      "source": [
        "stop_word = set(stopwords.words('english'))\n",
        "\n",
        "df['text'] = df['text'].apply(lambda x:' '.join([word for word in x.split() if word not in (stop_word)]))"
      ]
    },
    {
      "cell_type": "code",
      "execution_count": 107,
      "metadata": {
        "colab": {
          "base_uri": "https://localhost:8080/"
        },
        "id": "WaU9gq_QNZ0Q",
        "outputId": "46c34c63-2539-407e-d229-409e233c85e3"
      },
      "outputs": [
        {
          "output_type": "execute_result",
          "data": {
            "text/plain": [
              "sport            511\n",
              "business         510\n",
              "politics         417\n",
              "tech             401\n",
              "entertainment    386\n",
              "Name: category, dtype: int64"
            ]
          },
          "metadata": {},
          "execution_count": 107
        }
      ],
      "source": [
        "df['category'].value_counts()"
      ]
    },
    {
      "cell_type": "code",
      "execution_count": 108,
      "metadata": {
        "colab": {
          "base_uri": "https://localhost:8080/",
          "height": 143
        },
        "id": "9vJ4BMRpPnLX",
        "outputId": "1a3621ee-70f7-4e31-af01-aa622fe18628"
      },
      "outputs": [
        {
          "output_type": "execute_result",
          "data": {
            "text/plain": [
              "                                                   text  business  \\\n",
              "1360  call centre users lose patience customers tryi...         1   \n",
              "480   edwards tips idowu euro gold world outdoor tri...         0   \n",
              "933   mutant book wins guardian prize book evolution...         0   \n",
              "\n",
              "      entertainment  politics  sport  tech  \n",
              "1360              0         0      0     0  \n",
              "480               0         0      1     0  \n",
              "933               1         0      0     0  "
            ],
            "text/html": [
              "\n",
              "  <div id=\"df-536a92e7-b62c-4173-a758-bd829a6d500c\">\n",
              "    <div class=\"colab-df-container\">\n",
              "      <div>\n",
              "<style scoped>\n",
              "    .dataframe tbody tr th:only-of-type {\n",
              "        vertical-align: middle;\n",
              "    }\n",
              "\n",
              "    .dataframe tbody tr th {\n",
              "        vertical-align: top;\n",
              "    }\n",
              "\n",
              "    .dataframe thead th {\n",
              "        text-align: right;\n",
              "    }\n",
              "</style>\n",
              "<table border=\"1\" class=\"dataframe\">\n",
              "  <thead>\n",
              "    <tr style=\"text-align: right;\">\n",
              "      <th></th>\n",
              "      <th>text</th>\n",
              "      <th>business</th>\n",
              "      <th>entertainment</th>\n",
              "      <th>politics</th>\n",
              "      <th>sport</th>\n",
              "      <th>tech</th>\n",
              "    </tr>\n",
              "  </thead>\n",
              "  <tbody>\n",
              "    <tr>\n",
              "      <th>1360</th>\n",
              "      <td>call centre users lose patience customers tryi...</td>\n",
              "      <td>1</td>\n",
              "      <td>0</td>\n",
              "      <td>0</td>\n",
              "      <td>0</td>\n",
              "      <td>0</td>\n",
              "    </tr>\n",
              "    <tr>\n",
              "      <th>480</th>\n",
              "      <td>edwards tips idowu euro gold world outdoor tri...</td>\n",
              "      <td>0</td>\n",
              "      <td>0</td>\n",
              "      <td>0</td>\n",
              "      <td>1</td>\n",
              "      <td>0</td>\n",
              "    </tr>\n",
              "    <tr>\n",
              "      <th>933</th>\n",
              "      <td>mutant book wins guardian prize book evolution...</td>\n",
              "      <td>0</td>\n",
              "      <td>1</td>\n",
              "      <td>0</td>\n",
              "      <td>0</td>\n",
              "      <td>0</td>\n",
              "    </tr>\n",
              "  </tbody>\n",
              "</table>\n",
              "</div>\n",
              "      <button class=\"colab-df-convert\" onclick=\"convertToInteractive('df-536a92e7-b62c-4173-a758-bd829a6d500c')\"\n",
              "              title=\"Convert this dataframe to an interactive table.\"\n",
              "              style=\"display:none;\">\n",
              "        \n",
              "  <svg xmlns=\"http://www.w3.org/2000/svg\" height=\"24px\"viewBox=\"0 0 24 24\"\n",
              "       width=\"24px\">\n",
              "    <path d=\"M0 0h24v24H0V0z\" fill=\"none\"/>\n",
              "    <path d=\"M18.56 5.44l.94 2.06.94-2.06 2.06-.94-2.06-.94-.94-2.06-.94 2.06-2.06.94zm-11 1L8.5 8.5l.94-2.06 2.06-.94-2.06-.94L8.5 2.5l-.94 2.06-2.06.94zm10 10l.94 2.06.94-2.06 2.06-.94-2.06-.94-.94-2.06-.94 2.06-2.06.94z\"/><path d=\"M17.41 7.96l-1.37-1.37c-.4-.4-.92-.59-1.43-.59-.52 0-1.04.2-1.43.59L10.3 9.45l-7.72 7.72c-.78.78-.78 2.05 0 2.83L4 21.41c.39.39.9.59 1.41.59.51 0 1.02-.2 1.41-.59l7.78-7.78 2.81-2.81c.8-.78.8-2.07 0-2.86zM5.41 20L4 18.59l7.72-7.72 1.47 1.35L5.41 20z\"/>\n",
              "  </svg>\n",
              "      </button>\n",
              "      \n",
              "  <style>\n",
              "    .colab-df-container {\n",
              "      display:flex;\n",
              "      flex-wrap:wrap;\n",
              "      gap: 12px;\n",
              "    }\n",
              "\n",
              "    .colab-df-convert {\n",
              "      background-color: #E8F0FE;\n",
              "      border: none;\n",
              "      border-radius: 50%;\n",
              "      cursor: pointer;\n",
              "      display: none;\n",
              "      fill: #1967D2;\n",
              "      height: 32px;\n",
              "      padding: 0 0 0 0;\n",
              "      width: 32px;\n",
              "    }\n",
              "\n",
              "    .colab-df-convert:hover {\n",
              "      background-color: #E2EBFA;\n",
              "      box-shadow: 0px 1px 2px rgba(60, 64, 67, 0.3), 0px 1px 3px 1px rgba(60, 64, 67, 0.15);\n",
              "      fill: #174EA6;\n",
              "    }\n",
              "\n",
              "    [theme=dark] .colab-df-convert {\n",
              "      background-color: #3B4455;\n",
              "      fill: #D2E3FC;\n",
              "    }\n",
              "\n",
              "    [theme=dark] .colab-df-convert:hover {\n",
              "      background-color: #434B5C;\n",
              "      box-shadow: 0px 1px 3px 1px rgba(0, 0, 0, 0.15);\n",
              "      filter: drop-shadow(0px 1px 2px rgba(0, 0, 0, 0.3));\n",
              "      fill: #FFFFFF;\n",
              "    }\n",
              "  </style>\n",
              "\n",
              "      <script>\n",
              "        const buttonEl =\n",
              "          document.querySelector('#df-536a92e7-b62c-4173-a758-bd829a6d500c button.colab-df-convert');\n",
              "        buttonEl.style.display =\n",
              "          google.colab.kernel.accessAllowed ? 'block' : 'none';\n",
              "\n",
              "        async function convertToInteractive(key) {\n",
              "          const element = document.querySelector('#df-536a92e7-b62c-4173-a758-bd829a6d500c');\n",
              "          const dataTable =\n",
              "            await google.colab.kernel.invokeFunction('convertToInteractive',\n",
              "                                                     [key], {});\n",
              "          if (!dataTable) return;\n",
              "\n",
              "          const docLinkHtml = 'Like what you see? Visit the ' +\n",
              "            '<a target=\"_blank\" href=https://colab.research.google.com/notebooks/data_table.ipynb>data table notebook</a>'\n",
              "            + ' to learn more about interactive tables.';\n",
              "          element.innerHTML = '';\n",
              "          dataTable['output_type'] = 'display_data';\n",
              "          await google.colab.output.renderOutput(dataTable, element);\n",
              "          const docLink = document.createElement('div');\n",
              "          docLink.innerHTML = docLinkHtml;\n",
              "          element.appendChild(docLink);\n",
              "        }\n",
              "      </script>\n",
              "    </div>\n",
              "  </div>\n",
              "  "
            ]
          },
          "metadata": {},
          "execution_count": 108
        }
      ],
      "source": [
        "category = pd.get_dummies(df['category'])\n",
        "df1 = pd.concat([df, category], axis=1)\n",
        "df1 = df1.drop(columns='category')\n",
        "df1.sample(3)"
      ]
    },
    {
      "cell_type": "code",
      "execution_count": 109,
      "metadata": {
        "colab": {
          "base_uri": "https://localhost:8080/"
        },
        "id": "YIUCfzD8QIuu",
        "outputId": "c57b96c4-8638-426c-c7f0-d275f72c774f"
      },
      "outputs": [
        {
          "output_type": "execute_result",
          "data": {
            "text/plain": [
              "Index(['text', 'business', 'entertainment', 'politics', 'sport', 'tech'], dtype='object')"
            ]
          },
          "metadata": {},
          "execution_count": 109
        }
      ],
      "source": [
        "df1.columns"
      ]
    },
    {
      "cell_type": "code",
      "execution_count": 110,
      "metadata": {
        "id": "MRKFkk6_P74h"
      },
      "outputs": [],
      "source": [
        "X = df1['text'].values\n",
        "y = df1[['business', 'entertainment', 'politics', 'sport', 'tech']].values"
      ]
    },
    {
      "cell_type": "code",
      "execution_count": 111,
      "metadata": {
        "colab": {
          "base_uri": "https://localhost:8080/"
        },
        "id": "FOCFVKuSQeAm",
        "outputId": "939406fa-cbae-4bd6-b8c9-e31d36cbc8e0"
      },
      "outputs": [
        {
          "output_type": "stream",
          "name": "stdout",
          "text": [
            "Row and col : X_train (1780,) | X_test (445,) | y_train (1780, 5) | y_test (445, 5)\n"
          ]
        }
      ],
      "source": [
        "X_train, X_test, y_train, y_test = train_test_split(X, y, test_size=0.2, random_state=42)\n",
        "print(\"Row and col : X_train {} | X_test {} | y_train {} | y_test {}\".format(X_train.shape, X_test.shape, y_train.shape, y_test.shape))"
      ]
    },
    {
      "cell_type": "code",
      "execution_count": 112,
      "metadata": {
        "id": "z4nACmBHReN5"
      },
      "outputs": [],
      "source": [
        "tokenizer = Tokenizer(num_words=8000, oov_token='x')\n",
        "tokenizer.fit_on_texts(X_train) \n",
        "tokenizer.fit_on_texts(X_test)\n",
        "\n",
        "sequences_train = tokenizer.texts_to_sequences(X_train)\n",
        "sequences_test = tokenizer.texts_to_sequences(X_test)\n",
        "\n",
        "maxlen = max([len(x) for x in sequences_train])\n",
        "\n",
        "padded_train = pad_sequences(sequences_train, maxlen=maxlen)\n",
        "padded_test = pad_sequences(sequences_test, maxlen=maxlen)"
      ]
    },
    {
      "cell_type": "code",
      "execution_count": 113,
      "metadata": {
        "id": "LAhD1PeOSX63"
      },
      "outputs": [],
      "source": [
        "model = tf.keras.Sequential([\n",
        "    tf.keras.layers.Embedding(input_dim=5000, output_dim=32),\n",
        "    tf.keras.layers.LSTM(64, return_sequences=True),\n",
        "    tf.keras.layers.Dropout(0.5),\n",
        "    tf.keras.layers.LSTM(64),\n",
        "    tf.keras.layers.Dense(124, activation='relu'),\n",
        "    tf.keras.layers.Dense(64, activation='relu'),\n",
        "    tf.keras.layers.Dense(32, activation='relu'),\n",
        "    tf.keras.layers.Dropout(0.5),\n",
        "    tf.keras.layers.Dense(5, activation='softmax')\n",
        "])\n",
        "model.compile(loss='categorical_crossentropy',\n",
        "              optimizer='adam',\n",
        "              metrics=['accuracy'])"
      ]
    },
    {
      "cell_type": "code",
      "execution_count": 114,
      "metadata": {
        "colab": {
          "base_uri": "https://localhost:8080/"
        },
        "id": "OUaRQk66TcFg",
        "outputId": "4fa1f8b0-798c-4665-bd3b-91ebb7563445"
      },
      "outputs": [
        {
          "output_type": "stream",
          "name": "stdout",
          "text": [
            "Model: \"sequential_5\"\n",
            "_________________________________________________________________\n",
            " Layer (type)                Output Shape              Param #   \n",
            "=================================================================\n",
            " embedding_5 (Embedding)     (None, None, 32)          160000    \n",
            "                                                                 \n",
            " lstm_10 (LSTM)              (None, None, 64)          24832     \n",
            "                                                                 \n",
            " dropout_10 (Dropout)        (None, None, 64)          0         \n",
            "                                                                 \n",
            " lstm_11 (LSTM)              (None, 64)                33024     \n",
            "                                                                 \n",
            " dense_16 (Dense)            (None, 124)               8060      \n",
            "                                                                 \n",
            " dense_17 (Dense)            (None, 64)                8000      \n",
            "                                                                 \n",
            " dense_18 (Dense)            (None, 32)                2080      \n",
            "                                                                 \n",
            " dropout_11 (Dropout)        (None, 32)                0         \n",
            "                                                                 \n",
            " dense_19 (Dense)            (None, 5)                 165       \n",
            "                                                                 \n",
            "=================================================================\n",
            "Total params: 236,161\n",
            "Trainable params: 236,161\n",
            "Non-trainable params: 0\n",
            "_________________________________________________________________\n"
          ]
        }
      ],
      "source": [
        "model.summary()"
      ]
    },
    {
      "cell_type": "code",
      "execution_count": 115,
      "metadata": {
        "id": "2Vr85jPCT4Eh"
      },
      "outputs": [],
      "source": [
        "# early_stopping_callback = tf.keras.callbacks.EarlyStopping(monitor='accuracy', patience=5)\n",
        "model_checkpoint_callback = tf.keras.callbacks.ModelCheckpoint(\n",
        "    filepath='content',\n",
        "    save_weights_only=True,\n",
        "    monitor='val_accuracy',\n",
        "    mode='max',\n",
        "    save_best_only=True)\n",
        "\n",
        "class myCallback(tf.keras.callbacks.Callback):\n",
        "  def on_epoch_end(self, epoch, logs={}):\n",
        "    if(logs.get('val_accuracy')>0.9):\n",
        "      print(\"\\nAkurasi telah mencapai >90%!\")\n",
        "      self.model.stop_training = True\n",
        "callbacks = myCallback()"
      ]
    },
    {
      "cell_type": "code",
      "execution_count": 116,
      "metadata": {
        "colab": {
          "base_uri": "https://localhost:8080/"
        },
        "id": "a4BmzC4KUI5q",
        "outputId": "5f4c22b5-c70e-4ac0-a839-434f47142ac9"
      },
      "outputs": [
        {
          "output_type": "stream",
          "name": "stdout",
          "text": [
            "Epoch 1/50\n",
            "56/56 - 10s - loss: 1.5529 - accuracy: 0.2747 - val_loss: 1.2364 - val_accuracy: 0.3933 - 10s/epoch - 182ms/step\n",
            "Epoch 2/50\n",
            "56/56 - 7s - loss: 1.1786 - accuracy: 0.4337 - val_loss: 1.0027 - val_accuracy: 0.5416 - 7s/epoch - 119ms/step\n",
            "Epoch 3/50\n",
            "56/56 - 6s - loss: 0.9108 - accuracy: 0.5719 - val_loss: 0.9048 - val_accuracy: 0.6045 - 6s/epoch - 107ms/step\n",
            "Epoch 4/50\n",
            "56/56 - 6s - loss: 0.7565 - accuracy: 0.6938 - val_loss: 0.8977 - val_accuracy: 0.5798 - 6s/epoch - 107ms/step\n",
            "Epoch 5/50\n",
            "56/56 - 6s - loss: 0.6408 - accuracy: 0.7444 - val_loss: 0.6941 - val_accuracy: 0.7393 - 6s/epoch - 108ms/step\n",
            "Epoch 6/50\n",
            "56/56 - 6s - loss: 0.9836 - accuracy: 0.7427 - val_loss: 1.0906 - val_accuracy: 0.5506 - 6s/epoch - 106ms/step\n",
            "Epoch 7/50\n",
            "56/56 - 6s - loss: 0.7035 - accuracy: 0.7545 - val_loss: 0.8081 - val_accuracy: 0.7326 - 6s/epoch - 107ms/step\n",
            "Epoch 8/50\n",
            "56/56 - 7s - loss: 0.3517 - accuracy: 0.8798 - val_loss: 0.7230 - val_accuracy: 0.8045 - 7s/epoch - 131ms/step\n",
            "Epoch 9/50\n",
            "56/56 - 6s - loss: 0.2023 - accuracy: 0.9478 - val_loss: 0.7462 - val_accuracy: 0.8112 - 6s/epoch - 107ms/step\n",
            "Epoch 10/50\n",
            "56/56 - 6s - loss: 0.1446 - accuracy: 0.9596 - val_loss: 1.3933 - val_accuracy: 0.7551 - 6s/epoch - 107ms/step\n",
            "Epoch 11/50\n",
            "56/56 - 7s - loss: 0.1560 - accuracy: 0.9539 - val_loss: 0.7724 - val_accuracy: 0.8517 - 7s/epoch - 130ms/step\n",
            "Epoch 12/50\n",
            "56/56 - 6s - loss: 0.1014 - accuracy: 0.9742 - val_loss: 0.8704 - val_accuracy: 0.8247 - 6s/epoch - 111ms/step\n",
            "Epoch 13/50\n",
            "56/56 - 6s - loss: 0.0732 - accuracy: 0.9815 - val_loss: 0.8971 - val_accuracy: 0.8404 - 6s/epoch - 106ms/step\n",
            "Epoch 14/50\n",
            "56/56 - 6s - loss: 0.0612 - accuracy: 0.9820 - val_loss: 0.9031 - val_accuracy: 0.8584 - 6s/epoch - 108ms/step\n",
            "Epoch 15/50\n",
            "56/56 - 6s - loss: 0.0768 - accuracy: 0.9781 - val_loss: 0.8860 - val_accuracy: 0.8539 - 6s/epoch - 106ms/step\n",
            "Epoch 16/50\n",
            "56/56 - 6s - loss: 0.0415 - accuracy: 0.9876 - val_loss: 1.0285 - val_accuracy: 0.8517 - 6s/epoch - 106ms/step\n",
            "Epoch 17/50\n",
            "56/56 - 6s - loss: 0.0480 - accuracy: 0.9848 - val_loss: 1.0147 - val_accuracy: 0.8539 - 6s/epoch - 106ms/step\n",
            "Epoch 18/50\n",
            "56/56 - 6s - loss: 0.0903 - accuracy: 0.9758 - val_loss: 1.6563 - val_accuracy: 0.7685 - 6s/epoch - 107ms/step\n",
            "Epoch 19/50\n",
            "56/56 - 6s - loss: 0.0497 - accuracy: 0.9826 - val_loss: 1.1159 - val_accuracy: 0.8539 - 6s/epoch - 106ms/step\n",
            "Epoch 20/50\n",
            "56/56 - 6s - loss: 0.0680 - accuracy: 0.9831 - val_loss: 1.9527 - val_accuracy: 0.8000 - 6s/epoch - 107ms/step\n",
            "Epoch 21/50\n",
            "56/56 - 6s - loss: 0.0803 - accuracy: 0.9764 - val_loss: 1.1812 - val_accuracy: 0.8517 - 6s/epoch - 106ms/step\n",
            "Epoch 22/50\n",
            "56/56 - 6s - loss: 0.0355 - accuracy: 0.9888 - val_loss: 1.1174 - val_accuracy: 0.8764 - 6s/epoch - 107ms/step\n",
            "Epoch 23/50\n",
            "56/56 - 6s - loss: 0.0243 - accuracy: 0.9910 - val_loss: 1.2396 - val_accuracy: 0.8719 - 6s/epoch - 107ms/step\n",
            "Epoch 24/50\n",
            "56/56 - 6s - loss: 0.0230 - accuracy: 0.9910 - val_loss: 1.3238 - val_accuracy: 0.8674 - 6s/epoch - 107ms/step\n",
            "Epoch 25/50\n",
            "56/56 - 6s - loss: 0.0204 - accuracy: 0.9927 - val_loss: 1.3011 - val_accuracy: 0.8764 - 6s/epoch - 109ms/step\n",
            "Epoch 26/50\n",
            "56/56 - 6s - loss: 0.0206 - accuracy: 0.9938 - val_loss: 1.3638 - val_accuracy: 0.8809 - 6s/epoch - 107ms/step\n",
            "Epoch 27/50\n",
            "56/56 - 6s - loss: 0.0160 - accuracy: 0.9927 - val_loss: 1.4041 - val_accuracy: 0.8876 - 6s/epoch - 107ms/step\n",
            "Epoch 28/50\n",
            "56/56 - 6s - loss: 0.0125 - accuracy: 0.9955 - val_loss: 1.4619 - val_accuracy: 0.8899 - 6s/epoch - 107ms/step\n",
            "Epoch 29/50\n",
            "56/56 - 6s - loss: 0.0185 - accuracy: 0.9910 - val_loss: 1.5051 - val_accuracy: 0.8899 - 6s/epoch - 107ms/step\n",
            "Epoch 30/50\n",
            "56/56 - 6s - loss: 0.0140 - accuracy: 0.9927 - val_loss: 1.5638 - val_accuracy: 0.8876 - 6s/epoch - 106ms/step\n",
            "Epoch 31/50\n",
            "56/56 - 6s - loss: 0.0169 - accuracy: 0.9927 - val_loss: 1.5767 - val_accuracy: 0.8899 - 6s/epoch - 106ms/step\n",
            "Epoch 32/50\n",
            "56/56 - 6s - loss: 0.0172 - accuracy: 0.9916 - val_loss: 1.5875 - val_accuracy: 0.8899 - 6s/epoch - 106ms/step\n",
            "Epoch 33/50\n",
            "56/56 - 6s - loss: 0.0151 - accuracy: 0.9927 - val_loss: 1.5968 - val_accuracy: 0.8944 - 6s/epoch - 107ms/step\n",
            "Epoch 34/50\n",
            "56/56 - 6s - loss: 0.0163 - accuracy: 0.9921 - val_loss: 1.6413 - val_accuracy: 0.8944 - 6s/epoch - 107ms/step\n",
            "Epoch 35/50\n",
            "56/56 - 6s - loss: 0.0096 - accuracy: 0.9966 - val_loss: 1.6641 - val_accuracy: 0.8966 - 6s/epoch - 108ms/step\n",
            "Epoch 36/50\n",
            "56/56 - 6s - loss: 0.0135 - accuracy: 0.9938 - val_loss: 1.6650 - val_accuracy: 0.8921 - 6s/epoch - 107ms/step\n",
            "Epoch 37/50\n",
            "56/56 - 6s - loss: 0.0130 - accuracy: 0.9944 - val_loss: 1.7139 - val_accuracy: 0.8966 - 6s/epoch - 107ms/step\n",
            "Epoch 38/50\n",
            "56/56 - 6s - loss: 0.0165 - accuracy: 0.9910 - val_loss: 1.7382 - val_accuracy: 0.8944 - 6s/epoch - 107ms/step\n",
            "Epoch 39/50\n",
            "56/56 - 6s - loss: 0.0172 - accuracy: 0.9910 - val_loss: 1.7252 - val_accuracy: 0.8989 - 6s/epoch - 107ms/step\n",
            "Epoch 40/50\n",
            "56/56 - 6s - loss: 0.0133 - accuracy: 0.9938 - val_loss: 1.7743 - val_accuracy: 0.8966 - 6s/epoch - 106ms/step\n",
            "Epoch 41/50\n",
            "\n",
            "Akurasi telah mencapai >90%!\n",
            "56/56 - 6s - loss: 0.0124 - accuracy: 0.9949 - val_loss: 1.7801 - val_accuracy: 0.9011 - 6s/epoch - 107ms/step\n"
          ]
        }
      ],
      "source": [
        "num_epochs = 50\n",
        "history = model.fit(padded_train, y_train, epochs=num_epochs, \n",
        "                    validation_data=(padded_test, y_test), verbose=2,\n",
        "                    callbacks=[model_checkpoint_callback, callbacks])"
      ]
    },
    {
      "cell_type": "code",
      "execution_count": 117,
      "metadata": {
        "id": "Ls6CM3qdYjYo",
        "colab": {
          "base_uri": "https://localhost:8080/",
          "height": 295
        },
        "outputId": "01c84f07-0cb6-4215-f134-dfff8a740d22"
      },
      "outputs": [
        {
          "output_type": "display_data",
          "data": {
            "text/plain": [
              "<Figure size 432x288 with 1 Axes>"
            ],
            "image/png": "[encoded data removed]"
          },
          "metadata": {
            "needs_background": "light"
          }
        }
      ],
      "source": [
        "# summarize history for accuracy\n",
        "plt.plot(history.history['accuracy'])\n",
        "plt.plot(history.history['val_accuracy'])\n",
        "plt.title('model accuracy')\n",
        "plt.ylabel('accuracy')\n",
        "plt.xlabel('epoch')\n",
        "plt.legend(['train', 'test'], loc='upper left')\n",
        "plt.show()"
      ]
    },
    {
      "cell_type": "code",
      "execution_count": 118,
      "metadata": {
        "id": "36Q4qApq3u1G",
        "colab": {
          "base_uri": "https://localhost:8080/",
          "height": 295
        },
        "outputId": "273e9c29-84c4-4bda-9b83-ad6ffb150b7d"
      },
      "outputs": [
        {
          "output_type": "display_data",
          "data": {
            "text/plain": [
              "<Figure size 432x288 with 1 Axes>"
            ],
            "image/png": "[encoded data removed]"
          },
          "metadata": {
            "needs_background": "light"
          }
        }
      ],
      "source": [
        "# summarize history for loss\n",
        "plt.plot(history.history['loss'])\n",
        "plt.plot(history.history['val_loss'])\n",
        "plt.title('model loss')\n",
        "plt.ylabel('loss')\n",
        "plt.xlabel('epoch')\n",
        "plt.legend(['train', 'test'], loc='upper right')\n",
        "plt.show()"
      ]
    },
    {
      "cell_type": "code",
      "source": [],
      "metadata": {
        "id": "E5Qubzsv5g7Z"
      },
      "execution_count": 118,
      "outputs": []
    }
  ],
  "metadata": {
    "accelerator": "GPU",
    "colab": {
      "collapsed_sections": [],
      "provenance": []
    },
    "gpuClass": "standard",
    "kernelspec": {
      "display_name": "Python 3",
      "name": "python3"
    },
    "language_info": {
      "name": "python"
    }
  },
  "nbformat": 4,
  "nbformat_minor": 0
}